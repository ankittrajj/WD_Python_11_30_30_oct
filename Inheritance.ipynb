{
 "cells": [
  {
   "cell_type": "code",
   "execution_count": 3,
   "id": "f83de89a",
   "metadata": {},
   "outputs": [
    {
     "data": {
      "text/plain": [
       "34.0"
      ]
     },
     "execution_count": 3,
     "metadata": {},
     "output_type": "execute_result"
    }
   ],
   "source": [
    "class std:\n",
    "    def __init__(self,sub1,sub2,sub3):\n",
    "        self.sub1 = sub1\n",
    "        self.sub2 = sub2\n",
    "        self.sub3 = sub3\n",
    "        \n",
    "    def fun(self):\n",
    "        avg = (self.sub1+self.sub2+self.sub3)/3\n",
    "        return avg\n",
    "    \n",
    "s = std(23,34,45)\n",
    "s.fun()"
   ]
  },
  {
   "cell_type": "code",
   "execution_count": 6,
   "id": "13294fbb",
   "metadata": {},
   "outputs": [
    {
     "data": {
      "text/plain": [
       "45"
      ]
     },
     "execution_count": 6,
     "metadata": {},
     "output_type": "execute_result"
    }
   ],
   "source": [
    "s.sub3"
   ]
  },
  {
   "cell_type": "markdown",
   "id": "3864d9da",
   "metadata": {},
   "source": [
    "# Inheritance"
   ]
  },
  {
   "cell_type": "code",
   "execution_count": 7,
   "id": "7a9dd1c3",
   "metadata": {},
   "outputs": [],
   "source": [
    "class pc:\n",
    "    def __init__(self,name,age):\n",
    "        self.name = name\n",
    "        self.age = age\n",
    "    \n",
    "class cc(pc):\n",
    "    def __init__(self,name,age,marks):\n",
    "        pc.__init__(self,name,age)\n",
    "        self.marks = marks\n",
    "        \n",
    "c = cc('qwe',89,21)"
   ]
  },
  {
   "cell_type": "code",
   "execution_count": 8,
   "id": "53ed89fa",
   "metadata": {},
   "outputs": [
    {
     "data": {
      "text/plain": [
       "'qwe'"
      ]
     },
     "execution_count": 8,
     "metadata": {},
     "output_type": "execute_result"
    }
   ],
   "source": [
    "c.name"
   ]
  },
  {
   "cell_type": "code",
   "execution_count": 9,
   "id": "bd8a13a3",
   "metadata": {},
   "outputs": [
    {
     "data": {
      "text/plain": [
       "89"
      ]
     },
     "execution_count": 9,
     "metadata": {},
     "output_type": "execute_result"
    }
   ],
   "source": [
    "c.age"
   ]
  },
  {
   "cell_type": "code",
   "execution_count": 10,
   "id": "f6172011",
   "metadata": {},
   "outputs": [
    {
     "data": {
      "text/plain": [
       "21"
      ]
     },
     "execution_count": 10,
     "metadata": {},
     "output_type": "execute_result"
    }
   ],
   "source": [
    "c.marks"
   ]
  },
  {
   "cell_type": "code",
   "execution_count": 11,
   "id": "fbf9d8d8",
   "metadata": {},
   "outputs": [],
   "source": [
    "class pc:\n",
    "    def __init__(self,name,age):\n",
    "        self.name = name\n",
    "        self.age = age\n",
    "    \n",
    "class cc(pc):\n",
    "    def __init__(self,name,age,marks):\n",
    "        super().__init__(name,age)\n",
    "        self.marks = marks\n",
    "        \n",
    "c = cc('qwe',89,21)"
   ]
  },
  {
   "cell_type": "code",
   "execution_count": 12,
   "id": "fc532cfd",
   "metadata": {},
   "outputs": [
    {
     "data": {
      "text/plain": [
       "'qwe'"
      ]
     },
     "execution_count": 12,
     "metadata": {},
     "output_type": "execute_result"
    }
   ],
   "source": [
    "c.name"
   ]
  },
  {
   "cell_type": "code",
   "execution_count": 13,
   "id": "ded42b16",
   "metadata": {},
   "outputs": [
    {
     "data": {
      "text/plain": [
       "89"
      ]
     },
     "execution_count": 13,
     "metadata": {},
     "output_type": "execute_result"
    }
   ],
   "source": [
    "c.age"
   ]
  },
  {
   "cell_type": "code",
   "execution_count": 14,
   "id": "c950a4a5",
   "metadata": {},
   "outputs": [
    {
     "data": {
      "text/plain": [
       "21"
      ]
     },
     "execution_count": 14,
     "metadata": {},
     "output_type": "execute_result"
    }
   ],
   "source": [
    "c.marks"
   ]
  },
  {
   "cell_type": "code",
   "execution_count": 16,
   "id": "a4c8ad4f",
   "metadata": {},
   "outputs": [
    {
     "data": {
      "text/plain": [
       "2.8208955223880596"
      ]
     },
     "execution_count": 16,
     "metadata": {},
     "output_type": "execute_result"
    }
   ],
   "source": [
    "#wap to find the total time taken by a bike while \n",
    "# the speed of \n",
    "# car is 67km per hour and cover the distance of 189km.\n",
    "# Find the time taken by bike using inheritaing the values of \n",
    "# car with bike.\n",
    "\n",
    "class car:\n",
    "    def __init__(self,s,d):\n",
    "        self.s = s\n",
    "        self.d = d\n",
    "        \n",
    "class  bike(car):\n",
    "    def __init__(self,s,d):\n",
    "        super().__init__(s,d)\n",
    "        \n",
    "    def time(self):\n",
    "        t = self.d/self.s\n",
    "        return t\n",
    "        \n",
    "b = bike(67,189)\n",
    "b.time()\n",
    "        \n",
    "\n",
    "\n",
    "\n"
   ]
  },
  {
   "cell_type": "code",
   "execution_count": 18,
   "id": "748191a4",
   "metadata": {},
   "outputs": [],
   "source": [
    "# gpc to pc\n",
    "class gpc:\n",
    "    def __init__(self,name):\n",
    "        self.name = name\n",
    "class pc(gpc):\n",
    "    def __init__(self,name,age):\n",
    "        super().__init__(name)\n",
    "        self.age = age \n",
    "        \n",
    "class cc:\n",
    "    def __init__(self,marks):\n",
    "        self.marks = marks\n",
    "        \n",
    "p = pc(123,'xyz')        "
   ]
  },
  {
   "cell_type": "code",
   "execution_count": 19,
   "id": "f0038e21",
   "metadata": {},
   "outputs": [
    {
     "data": {
      "text/plain": [
       "123"
      ]
     },
     "execution_count": 19,
     "metadata": {},
     "output_type": "execute_result"
    }
   ],
   "source": [
    "p.name"
   ]
  },
  {
   "cell_type": "code",
   "execution_count": 20,
   "id": "39ee7548",
   "metadata": {},
   "outputs": [
    {
     "data": {
      "text/plain": [
       "'xyz'"
      ]
     },
     "execution_count": 20,
     "metadata": {},
     "output_type": "execute_result"
    }
   ],
   "source": [
    "p.age"
   ]
  },
  {
   "cell_type": "code",
   "execution_count": 22,
   "id": "658cc378",
   "metadata": {},
   "outputs": [],
   "source": [
    "class gpc:\n",
    "    def __init__(self,name):\n",
    "        self.name = name\n",
    "        \n",
    "class pc(gpc):\n",
    "    def __init__(self,name,age):\n",
    "        super().__init__(name)\n",
    "        self.age = age \n",
    "        \n",
    "class cc(pc):\n",
    "    def __init__(self,name,age,marks):\n",
    "        super().__init__(name,age)\n",
    "        self.marks = marks\n",
    "        \n",
    "p = cc(123,'xyz',0)"
   ]
  },
  {
   "cell_type": "code",
   "execution_count": 23,
   "id": "677fd8a6",
   "metadata": {},
   "outputs": [
    {
     "data": {
      "text/plain": [
       "123"
      ]
     },
     "execution_count": 23,
     "metadata": {},
     "output_type": "execute_result"
    }
   ],
   "source": [
    "p.name"
   ]
  },
  {
   "cell_type": "code",
   "execution_count": 24,
   "id": "1b7c62fe",
   "metadata": {},
   "outputs": [
    {
     "data": {
      "text/plain": [
       "'xyz'"
      ]
     },
     "execution_count": 24,
     "metadata": {},
     "output_type": "execute_result"
    }
   ],
   "source": [
    "p.age"
   ]
  },
  {
   "cell_type": "code",
   "execution_count": 25,
   "id": "021fbdd5",
   "metadata": {},
   "outputs": [
    {
     "data": {
      "text/plain": [
       "0"
      ]
     },
     "execution_count": 25,
     "metadata": {},
     "output_type": "execute_result"
    }
   ],
   "source": [
    "p.marks"
   ]
  },
  {
   "cell_type": "code",
   "execution_count": null,
   "id": "5a9cfe8f",
   "metadata": {},
   "outputs": [],
   "source": []
  }
 ],
 "metadata": {
  "kernelspec": {
   "display_name": "Python 3 (ipykernel)",
   "language": "python",
   "name": "python3"
  },
  "language_info": {
   "codemirror_mode": {
    "name": "ipython",
    "version": 3
   },
   "file_extension": ".py",
   "mimetype": "text/x-python",
   "name": "python",
   "nbconvert_exporter": "python",
   "pygments_lexer": "ipython3",
   "version": "3.9.7"
  }
 },
 "nbformat": 4,
 "nbformat_minor": 5
}
