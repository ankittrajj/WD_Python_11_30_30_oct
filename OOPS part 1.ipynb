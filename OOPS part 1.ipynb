{
 "cells": [
  {
   "cell_type": "code",
   "execution_count": 5,
   "id": "ff1b4172",
   "metadata": {},
   "outputs": [
    {
     "name": "stdout",
     "output_type": "stream",
     "text": [
      "a 34\n"
     ]
    }
   ],
   "source": [
    "class std:\n",
    "    def details(self,name,age):\n",
    "        print(name,age)\n",
    "\n",
    "s = std()\n",
    "s.details('a',34)"
   ]
  },
  {
   "cell_type": "code",
   "execution_count": 7,
   "id": "8b881332",
   "metadata": {},
   "outputs": [
    {
     "data": {
      "text/plain": [
       "45.0"
      ]
     },
     "execution_count": 7,
     "metadata": {},
     "output_type": "execute_result"
    }
   ],
   "source": [
    "#wap to find the avg of a students in three subjects.\n",
    "\n",
    "class std:\n",
    "    def marks(self,x,y,z):\n",
    "        avg = (x+y+z)/3\n",
    "        return avg\n",
    "s = std()\n",
    "\n",
    "s.marks(34,45,56)\n"
   ]
  },
  {
   "cell_type": "markdown",
   "id": "b9c04344",
   "metadata": {},
   "source": [
    "# Constructor"
   ]
  },
  {
   "cell_type": "code",
   "execution_count": 11,
   "id": "c6f0b707",
   "metadata": {},
   "outputs": [
    {
     "data": {
      "text/plain": [
       "('a', 1)"
      ]
     },
     "execution_count": 11,
     "metadata": {},
     "output_type": "execute_result"
    }
   ],
   "source": [
    "class emp:\n",
    "    def __init__(self,name,sal):\n",
    "        self.name = name\n",
    "        self.sal = sal\n",
    "        \n",
    "e = emp('a',1)\n",
    "e.name,e.sal"
   ]
  },
  {
   "cell_type": "code",
   "execution_count": 10,
   "id": "640908e9",
   "metadata": {},
   "outputs": [
    {
     "data": {
      "text/plain": [
       "1"
      ]
     },
     "execution_count": 10,
     "metadata": {},
     "output_type": "execute_result"
    }
   ],
   "source": [
    "e.sal"
   ]
  },
  {
   "cell_type": "code",
   "execution_count": null,
   "id": "8520b999",
   "metadata": {},
   "outputs": [],
   "source": []
  }
 ],
 "metadata": {
  "kernelspec": {
   "display_name": "Python 3 (ipykernel)",
   "language": "python",
   "name": "python3"
  },
  "language_info": {
   "codemirror_mode": {
    "name": "ipython",
    "version": 3
   },
   "file_extension": ".py",
   "mimetype": "text/x-python",
   "name": "python",
   "nbconvert_exporter": "python",
   "pygments_lexer": "ipython3",
   "version": "3.9.7"
  }
 },
 "nbformat": 4,
 "nbformat_minor": 5
}
