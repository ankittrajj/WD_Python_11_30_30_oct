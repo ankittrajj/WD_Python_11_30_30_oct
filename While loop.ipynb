{
 "cells": [
  {
   "cell_type": "code",
   "execution_count": 3,
   "id": "fb3baecf",
   "metadata": {},
   "outputs": [
    {
     "name": "stdout",
     "output_type": "stream",
     "text": [
      "10\n",
      "9\n",
      "8\n",
      "7\n",
      "6\n",
      "5\n",
      "4\n",
      "3\n",
      "2\n",
      "1\n",
      "0\n",
      "-1\n",
      "-2\n",
      "-3\n",
      "-4\n",
      "-5\n",
      "-6\n",
      "-7\n",
      "-8\n",
      "-9\n",
      "-10\n"
     ]
    }
   ],
   "source": [
    "# 10 to -10\n",
    "for i in range(10,-11,-1):\n",
    "    print(i)"
   ]
  },
  {
   "cell_type": "code",
   "execution_count": 5,
   "id": "f973ed62",
   "metadata": {},
   "outputs": [
    {
     "name": "stdout",
     "output_type": "stream",
     "text": [
      "-10\n",
      "-9\n",
      "-8\n",
      "-7\n",
      "-6\n",
      "-5\n",
      "-4\n",
      "-3\n",
      "-2\n",
      "-1\n",
      "0\n",
      "1\n",
      "2\n",
      "3\n",
      "4\n",
      "5\n",
      "6\n",
      "7\n",
      "8\n",
      "9\n",
      "10\n"
     ]
    }
   ],
   "source": [
    "for i in range(-10,11):\n",
    "    print(i)"
   ]
  },
  {
   "cell_type": "code",
   "execution_count": 11,
   "id": "2082fba1",
   "metadata": {},
   "outputs": [
    {
     "name": "stdout",
     "output_type": "stream",
     "text": [
      "Enter the number666\n"
     ]
    },
    {
     "ename": "TypeError",
     "evalue": "'int' object is not iterable",
     "output_type": "error",
     "traceback": [
      "\u001b[1;31m---------------------------------------------------------------------------\u001b[0m",
      "\u001b[1;31mTypeError\u001b[0m                                 Traceback (most recent call last)",
      "\u001b[1;32m~\\AppData\\Local\\Temp/ipykernel_11008/2597397246.py\u001b[0m in \u001b[0;36m<module>\u001b[1;34m\u001b[0m\n\u001b[0;32m      1\u001b[0m \u001b[1;31m#wap to find odd and even number from 1-50.\u001b[0m\u001b[1;33m\u001b[0m\u001b[1;33m\u001b[0m\u001b[0m\n\u001b[0;32m      2\u001b[0m \u001b[0mx\u001b[0m \u001b[1;33m=\u001b[0m \u001b[0mint\u001b[0m\u001b[1;33m(\u001b[0m\u001b[0minput\u001b[0m\u001b[1;33m(\u001b[0m\u001b[1;34m\"Enter the number\"\u001b[0m\u001b[1;33m)\u001b[0m\u001b[1;33m)\u001b[0m\u001b[1;33m\u001b[0m\u001b[1;33m\u001b[0m\u001b[0m\n\u001b[1;32m----> 3\u001b[1;33m \u001b[1;32mfor\u001b[0m \u001b[0mi\u001b[0m \u001b[1;32min\u001b[0m \u001b[0mx\u001b[0m\u001b[1;33m:\u001b[0m\u001b[1;33m\u001b[0m\u001b[1;33m\u001b[0m\u001b[0m\n\u001b[0m\u001b[0;32m      4\u001b[0m     \u001b[1;32mif\u001b[0m  \u001b[0mi\u001b[0m \u001b[1;33m%\u001b[0m \u001b[1;36m2\u001b[0m \u001b[1;33m!=\u001b[0m \u001b[1;36m0\u001b[0m\u001b[1;33m:\u001b[0m\u001b[1;33m\u001b[0m\u001b[1;33m\u001b[0m\u001b[0m\n\u001b[0;32m      5\u001b[0m         \u001b[0mprint\u001b[0m\u001b[1;33m(\u001b[0m\u001b[1;34m\"Odd\"\u001b[0m\u001b[1;33m,\u001b[0m\u001b[0mi\u001b[0m\u001b[1;33m)\u001b[0m\u001b[1;33m\u001b[0m\u001b[1;33m\u001b[0m\u001b[0m\n",
      "\u001b[1;31mTypeError\u001b[0m: 'int' object is not iterable"
     ]
    }
   ],
   "source": [
    "#wap to find odd and even number from 1-50.\n",
    "x = int(input(\"Enter the number\"))\n",
    "for i in x:\n",
    "    if  i % 2 != 0:\n",
    "        print(\"Odd\",i)"
   ]
  },
  {
   "cell_type": "markdown",
   "id": "d8501f76",
   "metadata": {},
   "source": [
    "# While loop"
   ]
  },
  {
   "cell_type": "code",
   "execution_count": 14,
   "id": "4f034e94",
   "metadata": {},
   "outputs": [
    {
     "ename": "SyntaxError",
     "evalue": "invalid syntax (Temp/ipykernel_11008/2743695335.py, line 12)",
     "output_type": "error",
     "traceback": [
      "\u001b[1;36m  File \u001b[1;32m\"C:\\Users\\Satyam\\AppData\\Local\\Temp/ipykernel_11008/2743695335.py\"\u001b[1;36m, line \u001b[1;32m12\u001b[0m\n\u001b[1;33m    x++\u001b[0m\n\u001b[1;37m       ^\u001b[0m\n\u001b[1;31mSyntaxError\u001b[0m\u001b[1;31m:\u001b[0m invalid syntax\n"
     ]
    }
   ],
   "source": [
    "#1. Initialization\n",
    "#2.condition\n",
    "#3.increment/decrement\n",
    "\n",
    "#wap to print the number from 1-10.\n",
    "\n",
    "x = 1\n",
    "while x<12:\n",
    "    print(x)\n",
    "#     x = x+1\n",
    "#     x+=1\n",
    "    x++"
   ]
  },
  {
   "cell_type": "code",
   "execution_count": 15,
   "id": "f205eb73",
   "metadata": {},
   "outputs": [
    {
     "name": "stdout",
     "output_type": "stream",
     "text": [
      "-10\n",
      "-9\n",
      "-8\n",
      "-7\n",
      "-6\n",
      "-5\n",
      "-4\n",
      "-3\n",
      "-2\n",
      "-1\n",
      "0\n",
      "1\n",
      "2\n",
      "3\n",
      "4\n",
      "5\n",
      "6\n",
      "7\n",
      "8\n",
      "9\n",
      "10\n"
     ]
    }
   ],
   "source": [
    "x = -10\n",
    "while x<11:\n",
    "    print(x)\n",
    "    x+=1"
   ]
  },
  {
   "cell_type": "code",
   "execution_count": 16,
   "id": "126d8465",
   "metadata": {},
   "outputs": [
    {
     "name": "stdout",
     "output_type": "stream",
     "text": [
      "1\n",
      "2\n",
      "3\n",
      "4\n",
      "5\n",
      "6\n",
      "7\n",
      "8\n",
      "9\n",
      "10\n",
      "11\n",
      "12\n"
     ]
    }
   ],
   "source": [
    "x = 1\n",
    "while x<=12:\n",
    "    print(x)\n",
    "    x = x+1"
   ]
  },
  {
   "cell_type": "code",
   "execution_count": 19,
   "id": "b2da8f32",
   "metadata": {},
   "outputs": [
    {
     "name": "stdout",
     "output_type": "stream",
     "text": [
      "Odd number-----> 1\n",
      "Even number-----> 2\n",
      "Odd number-----> 3\n",
      "Even number-----> 4\n",
      "Odd number-----> 5\n",
      "Even number-----> 6\n",
      "Odd number-----> 7\n",
      "Even number-----> 8\n",
      "Odd number-----> 9\n",
      "Even number-----> 10\n",
      "Odd number-----> 11\n",
      "Even number-----> 12\n",
      "Odd number-----> 13\n",
      "Even number-----> 14\n",
      "Odd number-----> 15\n",
      "Even number-----> 16\n",
      "Odd number-----> 17\n",
      "Even number-----> 18\n",
      "Odd number-----> 19\n",
      "Even number-----> 20\n",
      "Odd number-----> 21\n",
      "Even number-----> 22\n",
      "Odd number-----> 23\n",
      "Even number-----> 24\n",
      "Odd number-----> 25\n",
      "Even number-----> 26\n",
      "Odd number-----> 27\n",
      "Even number-----> 28\n",
      "Odd number-----> 29\n",
      "Even number-----> 30\n",
      "Odd number-----> 31\n",
      "Even number-----> 32\n",
      "Odd number-----> 33\n",
      "Even number-----> 34\n",
      "Odd number-----> 35\n",
      "Even number-----> 36\n",
      "Odd number-----> 37\n",
      "Even number-----> 38\n",
      "Odd number-----> 39\n",
      "Even number-----> 40\n",
      "Odd number-----> 41\n",
      "Even number-----> 42\n",
      "Odd number-----> 43\n",
      "Even number-----> 44\n",
      "Odd number-----> 45\n",
      "Even number-----> 46\n",
      "Odd number-----> 47\n",
      "Even number-----> 48\n",
      "Odd number-----> 49\n",
      "Even number-----> 50\n"
     ]
    }
   ],
   "source": [
    "# find odd even with while loop\n",
    "#wap to print the table of any number.\n",
    "\n",
    "x = 1\n",
    "while x<=50:\n",
    "    if x%2==0:\n",
    "        print(\"Even number----->\",x)\n",
    "    else:\n",
    "        print(\"Odd number----->\",x)\n",
    "    x = x+1"
   ]
  },
  {
   "cell_type": "code",
   "execution_count": 22,
   "id": "98e929d5",
   "metadata": {},
   "outputs": [
    {
     "name": "stdout",
     "output_type": "stream",
     "text": [
      "2\n",
      "4\n",
      "8\n",
      "16\n"
     ]
    }
   ],
   "source": [
    "x = 2\n",
    "while x<=20:\n",
    "    print(x)\n",
    "    x = x*2"
   ]
  },
  {
   "cell_type": "code",
   "execution_count": null,
   "id": "5e62d574",
   "metadata": {},
   "outputs": [],
   "source": []
  }
 ],
 "metadata": {
  "kernelspec": {
   "display_name": "Python 3 (ipykernel)",
   "language": "python",
   "name": "python3"
  },
  "language_info": {
   "codemirror_mode": {
    "name": "ipython",
    "version": 3
   },
   "file_extension": ".py",
   "mimetype": "text/x-python",
   "name": "python",
   "nbconvert_exporter": "python",
   "pygments_lexer": "ipython3",
   "version": "3.9.7"
  }
 },
 "nbformat": 4,
 "nbformat_minor": 5
}
