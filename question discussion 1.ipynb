{
 "cells": [
  {
   "cell_type": "code",
   "execution_count": 6,
   "id": "1cd8dcfd",
   "metadata": {},
   "outputs": [
    {
     "name": "stdout",
     "output_type": "stream",
     "text": [
      "My bonus amount is -----> 1000.0\n",
      "My new sal is ----> 21000.0\n"
     ]
    }
   ],
   "source": [
    "# A company decided to give bonus of 5% to employee \n",
    "# if his/her year of service is more than 5 years.\n",
    "# Ask user for their salary and year of service and \n",
    "# print the net bonus amount.\n",
    "\n",
    "year_of_service = 34\n",
    "sal = 20000\n",
    "\n",
    "if year_of_service>5:\n",
    "    bonus = (sal*5)/100\n",
    "    t_sal = sal+bonus\n",
    "    print('My bonus amount is ----->',bonus)\n",
    "    print(\"My new sal is ---->\",t_sal)\n",
    "    \n",
    "else:\n",
    "    print(\"pehle 5 saal kamm toh kar\")"
   ]
  },
  {
   "cell_type": "code",
   "execution_count": 10,
   "id": "c73f7ef2",
   "metadata": {},
   "outputs": [
    {
     "name": "stdout",
     "output_type": "stream",
     "text": [
      "47250.0\n",
      "2250.0\n"
     ]
    }
   ],
   "source": [
    "year_of_service = 15\n",
    "sal = 45000\n",
    "\n",
    "if year_of_service >5:\n",
    "    bonus = (sal*5)/100\n",
    "    total_sal = sal +bonus\n",
    "    print(total_sal)\n",
    "    print(bonus)\n",
    "else:\n",
    "    print(\"no bonus\")"
   ]
  },
  {
   "cell_type": "code",
   "execution_count": 12,
   "id": "fb345985",
   "metadata": {},
   "outputs": [
    {
     "name": "stdout",
     "output_type": "stream",
     "text": [
      "square\n"
     ]
    }
   ],
   "source": [
    "square_a = 3\n",
    "rec_l = 3\n",
    "rec_b = 3\n",
    "\n",
    "area_of_square = square_a**2\n",
    "area_of_rec = rec_l*rec_b\n",
    "\n",
    "if area_of_rec == area_of_square:\n",
    "    print(\"square\")\n",
    "else:\n",
    "    print('rectangle')\n"
   ]
  },
  {
   "cell_type": "code",
   "execution_count": 17,
   "id": "ffa54cbd",
   "metadata": {},
   "outputs": [
    {
     "name": "stdout",
     "output_type": "stream",
     "text": [
      "C\n"
     ]
    }
   ],
   "source": [
    "# A school has following rules for grading system:\n",
    "# a. Below 25 - F\n",
    "# b. 25 to 45 - E\n",
    "# c. 45 to 50 - D\n",
    "# d. 50 to 60 - C\n",
    "# e. 60 to 80 - B\n",
    "# f. Above 80 - A\n",
    "# Ask user to enter marks and print the corresponding grade.\n",
    "\n",
    "marks = 54\n",
    "if marks>80:\n",
    "    print(\"A\")\n",
    "elif marks>60 and marks<=80:\n",
    "    print(\"B\")\n",
    "elif marks>50 and marks <=60:\n",
    "    print(\"C\")\n",
    "elif marks>45 and marks<=50:\n",
    "    print(\"D\")\n",
    "    \n"
   ]
  },
  {
   "cell_type": "code",
   "execution_count": 23,
   "id": "84df4a00",
   "metadata": {},
   "outputs": [
    {
     "name": "stdout",
     "output_type": "stream",
     "text": [
      "7.000000000000001\n",
      "Not Allowed\n",
      "Allowed due to medical condition\n"
     ]
    }
   ],
   "source": [
    "# 8.\n",
    "# A student will not be allowed to sit in exam if his/her attendence is less than 75%.\n",
    "# Take following input from user\n",
    "# Number of classes held\n",
    "# Number of classes attended.\n",
    "# And print\n",
    "# percentage of class attended\n",
    "# Is student is allowed to sit in exam or not.\n",
    "\n",
    "class_held = 100\n",
    "class_attend = 7\n",
    "per_class_attend = (class_attend/class_held)*100\n",
    "print(per_class_attend)\n",
    "\n",
    "if per_class_attend>75:\n",
    "    print(\"Allowed\")\n",
    "else:\n",
    "    print(\"Not Allowed\")\n",
    "    med_con = 'Y'\n",
    "    \n",
    "    if med_con == 'Y':\n",
    "        print(\"Allowed due to medical condition\")\n",
    "    else:\n",
    "        print(\"Not allowed\")"
   ]
  },
  {
   "cell_type": "code",
   "execution_count": null,
   "id": "c498d316",
   "metadata": {},
   "outputs": [],
   "source": []
  }
 ],
 "metadata": {
  "kernelspec": {
   "display_name": "Python 3 (ipykernel)",
   "language": "python",
   "name": "python3"
  },
  "language_info": {
   "codemirror_mode": {
    "name": "ipython",
    "version": 3
   },
   "file_extension": ".py",
   "mimetype": "text/x-python",
   "name": "python",
   "nbconvert_exporter": "python",
   "pygments_lexer": "ipython3",
   "version": "3.9.7"
  }
 },
 "nbformat": 4,
 "nbformat_minor": 5
}
