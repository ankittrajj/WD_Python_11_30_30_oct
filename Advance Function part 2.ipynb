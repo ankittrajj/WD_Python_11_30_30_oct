{
 "cells": [
  {
   "cell_type": "markdown",
   "id": "c192a454",
   "metadata": {},
   "source": [
    "# MAP"
   ]
  },
  {
   "cell_type": "code",
   "execution_count": 1,
   "id": "0e5d7dd0",
   "metadata": {},
   "outputs": [],
   "source": [
    "x = [23,45,56,67]\n"
   ]
  },
  {
   "cell_type": "code",
   "execution_count": 2,
   "id": "d681fc9f",
   "metadata": {},
   "outputs": [],
   "source": [
    "s = lambda a:a**2"
   ]
  },
  {
   "cell_type": "code",
   "execution_count": 3,
   "id": "0e2365b6",
   "metadata": {},
   "outputs": [
    {
     "data": {
      "text/plain": [
       "4"
      ]
     },
     "execution_count": 3,
     "metadata": {},
     "output_type": "execute_result"
    }
   ],
   "source": [
    "s(2)"
   ]
  },
  {
   "cell_type": "code",
   "execution_count": 5,
   "id": "df3fd156",
   "metadata": {},
   "outputs": [
    {
     "data": {
      "text/plain": [
       "[529, 2025, 3136, 4489]"
      ]
     },
     "execution_count": 5,
     "metadata": {},
     "output_type": "execute_result"
    }
   ],
   "source": [
    "x = [23,45,56,67]\n",
    "list(map(lambda a:a**2,x))"
   ]
  },
  {
   "cell_type": "code",
   "execution_count": 6,
   "id": "212f76e2",
   "metadata": {},
   "outputs": [],
   "source": [
    "#wap to find the cube of a list of number."
   ]
  },
  {
   "cell_type": "markdown",
   "id": "cfdcb9df",
   "metadata": {},
   "source": [
    "# Reduce Function"
   ]
  },
  {
   "cell_type": "code",
   "execution_count": 7,
   "id": "5ff59308",
   "metadata": {},
   "outputs": [],
   "source": [
    "from functools import reduce"
   ]
  },
  {
   "cell_type": "code",
   "execution_count": 8,
   "id": "5f6c56ae",
   "metadata": {},
   "outputs": [
    {
     "data": {
      "text/plain": [
       "10"
      ]
     },
     "execution_count": 8,
     "metadata": {},
     "output_type": "execute_result"
    }
   ],
   "source": [
    "x = [1,2,3,4]\n",
    "reduce(lambda a,b:a+b,x)"
   ]
  },
  {
   "cell_type": "code",
   "execution_count": null,
   "id": "f87c3399",
   "metadata": {},
   "outputs": [],
   "source": []
  },
  {
   "cell_type": "code",
   "execution_count": null,
   "id": "99b6a4a6",
   "metadata": {},
   "outputs": [],
   "source": []
  },
  {
   "cell_type": "code",
   "execution_count": 10,
   "id": "3d54dc77",
   "metadata": {},
   "outputs": [
    {
     "data": {
      "text/plain": [
       "[34, 56, 78]"
      ]
     },
     "execution_count": 10,
     "metadata": {},
     "output_type": "execute_result"
    }
   ],
   "source": [
    "x = [23,34,45,56,67,78,89]\n",
    "list(filter(lambda a: True if a%2==0 else False,x))"
   ]
  },
  {
   "cell_type": "code",
   "execution_count": 13,
   "id": "bf9a5690",
   "metadata": {},
   "outputs": [
    {
     "data": {
      "text/plain": [
       "(34, 56, 78)"
      ]
     },
     "execution_count": 13,
     "metadata": {},
     "output_type": "execute_result"
    }
   ],
   "source": [
    "x = [23,34,45,56,67,78,89]\n",
    "def fun(x):\n",
    "    if x%2==0:\n",
    "        return True\n",
    "    else:\n",
    "        return False\n",
    "    \n",
    "tuple(filter(fun,x))"
   ]
  },
  {
   "cell_type": "code",
   "execution_count": null,
   "id": "86d97e7e",
   "metadata": {},
   "outputs": [],
   "source": []
  }
 ],
 "metadata": {
  "kernelspec": {
   "display_name": "Python 3 (ipykernel)",
   "language": "python",
   "name": "python3"
  },
  "language_info": {
   "codemirror_mode": {
    "name": "ipython",
    "version": 3
   },
   "file_extension": ".py",
   "mimetype": "text/x-python",
   "name": "python",
   "nbconvert_exporter": "python",
   "pygments_lexer": "ipython3",
   "version": "3.9.7"
  }
 },
 "nbformat": 4,
 "nbformat_minor": 5
}
