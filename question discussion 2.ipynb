{
 "cells": [
  {
   "cell_type": "code",
   "execution_count": 5,
   "id": "c12ae952",
   "metadata": {},
   "outputs": [
    {
     "name": "stdout",
     "output_type": "stream",
     "text": [
      "Your bonus will be ------> 500.0\n",
      "New sal after bonus will be --------> 10500.0\n"
     ]
    }
   ],
   "source": [
    "year_of_service = int(input(\"Enter your service\"))\n",
    "sal = int(input(\"Enter your sal!!\"))\n",
    "\n",
    "if year_of_service > 5:\n",
    "    bonus = (sal*5)/100\n",
    "    total_sal = bonus+sal\n",
    "    print(\"Your bonus will be ------>\",bonus)\n",
    "    print(\"New sal after bonus will be -------->\",total_sal)\n",
    "else:\n",
    "    print(\"NO bonus\",sal)"
   ]
  },
  {
   "cell_type": "code",
   "execution_count": 12,
   "id": "a81cb74e",
   "metadata": {},
   "outputs": [
    {
     "name": "stdout",
     "output_type": "stream",
     "text": [
      "7.000000000000001\n",
      "Ghr ja bhai!!\n",
      "Do you have any medical condition!!n\n",
      "chup chap ghr chla ja bhai\n"
     ]
    }
   ],
   "source": [
    "class_held = 100\n",
    "class_attend = 7\n",
    "per = (class_attend/class_held)*100\n",
    "print(per)\n",
    "if per>75:\n",
    "    print(\"Allowed\")\n",
    "else:\n",
    "    print(\"Ghr ja bhai!!\")\n",
    "    medical = input(\"Do you have any medical condition!!\")\n",
    "    if medical == 'Y':\n",
    "        print(\"Allow due to medical condition\")\n",
    "    else:\n",
    "        print(\"chup chap ghr chla ja bhai\")"
   ]
  },
  {
   "cell_type": "code",
   "execution_count": null,
   "id": "41acec3d",
   "metadata": {},
   "outputs": [],
   "source": []
  }
 ],
 "metadata": {
  "kernelspec": {
   "display_name": "Python 3 (ipykernel)",
   "language": "python",
   "name": "python3"
  },
  "language_info": {
   "codemirror_mode": {
    "name": "ipython",
    "version": 3
   },
   "file_extension": ".py",
   "mimetype": "text/x-python",
   "name": "python",
   "nbconvert_exporter": "python",
   "pygments_lexer": "ipython3",
   "version": "3.9.7"
  }
 },
 "nbformat": 4,
 "nbformat_minor": 5
}
