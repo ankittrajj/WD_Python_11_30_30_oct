{
 "cells": [
  {
   "cell_type": "code",
   "execution_count": 1,
   "id": "93e35c60",
   "metadata": {},
   "outputs": [
    {
     "name": "stdout",
     "output_type": "stream",
     "text": [
      "5 4\n"
     ]
    }
   ],
   "source": [
    "a = 4\n",
    "b = 5\n",
    "c = a\n",
    "a = b\n",
    "b = c\n",
    "print(a,b)"
   ]
  },
  {
   "cell_type": "code",
   "execution_count": 6,
   "id": "67ad1b61",
   "metadata": {},
   "outputs": [
    {
     "name": "stdout",
     "output_type": "stream",
     "text": [
      "Bhai garbar hogyi!!\n"
     ]
    }
   ],
   "source": [
    "#syntax\n",
    "# if condition:\n",
    "#     print('msg')\n",
    "\n",
    "num = 232\n",
    "if num == 23:\n",
    "    print(\"match hogya bhai!!\")\n",
    "else:\n",
    "    print(\"Bhai garbar hogyi!!\")"
   ]
  },
  {
   "cell_type": "code",
   "execution_count": 14,
   "id": "52ace8aa",
   "metadata": {},
   "outputs": [
    {
     "name": "stdout",
     "output_type": "stream",
     "text": [
      "First time voter\n"
     ]
    }
   ],
   "source": [
    "# 18+ ----> u can vote\n",
    "# 18- -----> u cannot vote\n",
    "\n",
    "age = 18\n",
    "if age>18:\n",
    "    print(\"U can vote\")\n",
    "elif age == 18:\n",
    "    print(\"First time voter\")\n",
    "\n",
    "else:\n",
    "    print(\"Choti bacchi ho kya??\")"
   ]
  },
  {
   "cell_type": "code",
   "execution_count": 17,
   "id": "06d123dc",
   "metadata": {},
   "outputs": [
    {
     "name": "stdout",
     "output_type": "stream",
     "text": [
      "20\n"
     ]
    }
   ],
   "source": [
    "#wap to find greater number betwen two numbers.\n",
    "#wap to find the smaller number between 2 numbers.\n",
    "\n",
    "a=20\n",
    "b=30\n",
    "if a < b:\n",
    "    print(a)\n",
    "else:\n",
    "    print(b)"
   ]
  },
  {
   "cell_type": "code",
   "execution_count": 22,
   "id": "43490061",
   "metadata": {},
   "outputs": [
    {
     "name": "stdout",
     "output_type": "stream",
     "text": [
      "C\n"
     ]
    }
   ],
   "source": [
    "#wap to find the greater number from 3 numbers.\n",
    "a = 78\n",
    "b = -450\n",
    "c = 334\n",
    "\n",
    "if a>b and a>c:\n",
    "    print(\"A\",a)\n",
    "elif b>a and b>c:\n",
    "    print(\"B\")\n",
    "else:\n",
    "    print(\"C\")\n",
    "# elif c>a and c>b:\n",
    "#     print(\"C\")"
   ]
  },
  {
   "cell_type": "code",
   "execution_count": 25,
   "id": "e746d739",
   "metadata": {},
   "outputs": [
    {
     "name": "stdout",
     "output_type": "stream",
     "text": [
      "3\n"
     ]
    }
   ],
   "source": [
    "a = 7\n",
    "b = 22\n",
    "c = b//a\n",
    "print(c)"
   ]
  },
  {
   "cell_type": "code",
   "execution_count": 26,
   "id": "cd645da3",
   "metadata": {},
   "outputs": [
    {
     "data": {
      "text/plain": [
       "int"
      ]
     },
     "execution_count": 26,
     "metadata": {},
     "output_type": "execute_result"
    }
   ],
   "source": [
    "type(c)"
   ]
  },
  {
   "cell_type": "code",
   "execution_count": 32,
   "id": "bc1eaad5",
   "metadata": {},
   "outputs": [
    {
     "name": "stdout",
     "output_type": "stream",
     "text": [
      "3\n"
     ]
    }
   ],
   "source": [
    "# mod operator\n",
    "# %\n",
    "a = 7\n",
    "b = 4\n",
    "c = a%b\n",
    "print(c)"
   ]
  },
  {
   "cell_type": "code",
   "execution_count": null,
   "id": "6a18ef70",
   "metadata": {},
   "outputs": [],
   "source": []
  }
 ],
 "metadata": {
  "kernelspec": {
   "display_name": "Python 3 (ipykernel)",
   "language": "python",
   "name": "python3"
  },
  "language_info": {
   "codemirror_mode": {
    "name": "ipython",
    "version": 3
   },
   "file_extension": ".py",
   "mimetype": "text/x-python",
   "name": "python",
   "nbconvert_exporter": "python",
   "pygments_lexer": "ipython3",
   "version": "3.9.7"
  }
 },
 "nbformat": 4,
 "nbformat_minor": 5
}
