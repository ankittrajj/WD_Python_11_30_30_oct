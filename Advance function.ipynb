{
 "cells": [
  {
   "cell_type": "code",
   "execution_count": 2,
   "id": "1b849dc2",
   "metadata": {},
   "outputs": [
    {
     "data": {
      "text/plain": [
       "3"
      ]
     },
     "execution_count": 2,
     "metadata": {},
     "output_type": "execute_result"
    }
   ],
   "source": [
    "def fun(x,y):\n",
    "    z = x+y\n",
    "    return z\n",
    "fun(1,2)"
   ]
  },
  {
   "cell_type": "code",
   "execution_count": 3,
   "id": "96bc6c23",
   "metadata": {},
   "outputs": [],
   "source": [
    "a = lambda x,y:x+y"
   ]
  },
  {
   "cell_type": "code",
   "execution_count": 4,
   "id": "b7b0e4dc",
   "metadata": {},
   "outputs": [
    {
     "data": {
      "text/plain": [
       "3"
      ]
     },
     "execution_count": 4,
     "metadata": {},
     "output_type": "execute_result"
    }
   ],
   "source": [
    "a(1,2)"
   ]
  },
  {
   "cell_type": "code",
   "execution_count": 8,
   "id": "38cbc78a",
   "metadata": {},
   "outputs": [
    {
     "data": {
      "text/plain": [
       "4"
      ]
     },
     "execution_count": 8,
     "metadata": {},
     "output_type": "execute_result"
    }
   ],
   "source": [
    "#wap to add a number using lambda function.\n",
    "c = lambda x:x+2\n",
    "c(2)"
   ]
  },
  {
   "cell_type": "code",
   "execution_count": 12,
   "id": "3dbfe8e2",
   "metadata": {},
   "outputs": [],
   "source": [
    "#wap to get the output of a+b*c+d.\n",
    "x = lambda a,b,c,d:a+b*c+d"
   ]
  },
  {
   "cell_type": "code",
   "execution_count": 10,
   "id": "bc1d90f8",
   "metadata": {},
   "outputs": [
    {
     "data": {
      "text/plain": [
       "11"
      ]
     },
     "execution_count": 10,
     "metadata": {},
     "output_type": "execute_result"
    }
   ],
   "source": [
    "x(1,2,3,4)"
   ]
  },
  {
   "cell_type": "code",
   "execution_count": 13,
   "id": "630d69b4",
   "metadata": {},
   "outputs": [
    {
     "data": {
      "text/plain": [
       "11"
      ]
     },
     "execution_count": 13,
     "metadata": {},
     "output_type": "execute_result"
    }
   ],
   "source": [
    "1+2*3+4"
   ]
  },
  {
   "cell_type": "markdown",
   "id": "649cadff",
   "metadata": {},
   "source": [
    "# Filter Function"
   ]
  },
  {
   "cell_type": "code",
   "execution_count": 19,
   "id": "7e6f756c",
   "metadata": {},
   "outputs": [],
   "source": [
    "a = [23,34,45,89,90,56,21,87,76,69,82]\n",
    "x = list(filter(lambda a:True if a>60 else False,a))"
   ]
  },
  {
   "cell_type": "code",
   "execution_count": 20,
   "id": "c46788f8",
   "metadata": {},
   "outputs": [
    {
     "data": {
      "text/plain": [
       "[89, 90, 87, 76, 69, 82]"
      ]
     },
     "execution_count": 20,
     "metadata": {},
     "output_type": "execute_result"
    }
   ],
   "source": [
    "x"
   ]
  },
  {
   "cell_type": "code",
   "execution_count": 24,
   "id": "0f267ec8",
   "metadata": {},
   "outputs": [],
   "source": [
    "a = [23,34,45,89,90,56,21,87,76,69,82]\n",
    "def fun(a):\n",
    "    if a>60:\n",
    "        return True\n",
    "    else:\n",
    "        return False\n",
    "    \n",
    "x = tuple(filter(fun,a))"
   ]
  },
  {
   "cell_type": "code",
   "execution_count": 25,
   "id": "1d180432",
   "metadata": {},
   "outputs": [
    {
     "data": {
      "text/plain": [
       "(89, 90, 87, 76, 69, 82)"
      ]
     },
     "execution_count": 25,
     "metadata": {},
     "output_type": "execute_result"
    }
   ],
   "source": [
    "x"
   ]
  },
  {
   "cell_type": "code",
   "execution_count": 30,
   "id": "af039868",
   "metadata": {},
   "outputs": [
    {
     "data": {
      "text/plain": [
       "3"
      ]
     },
     "execution_count": 30,
     "metadata": {},
     "output_type": "execute_result"
    }
   ],
   "source": [
    "def fun(a=8,b=1):\n",
    "    c = a+b\n",
    "    return c\n",
    "fun(2)"
   ]
  },
  {
   "cell_type": "code",
   "execution_count": null,
   "id": "93d0ccff",
   "metadata": {},
   "outputs": [],
   "source": []
  }
 ],
 "metadata": {
  "kernelspec": {
   "display_name": "Python 3 (ipykernel)",
   "language": "python",
   "name": "python3"
  },
  "language_info": {
   "codemirror_mode": {
    "name": "ipython",
    "version": 3
   },
   "file_extension": ".py",
   "mimetype": "text/x-python",
   "name": "python",
   "nbconvert_exporter": "python",
   "pygments_lexer": "ipython3",
   "version": "3.9.7"
  }
 },
 "nbformat": 4,
 "nbformat_minor": 5
}
