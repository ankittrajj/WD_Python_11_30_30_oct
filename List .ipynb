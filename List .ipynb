{
 "cells": [
  {
   "cell_type": "code",
   "execution_count": 5,
   "id": "c6026113",
   "metadata": {},
   "outputs": [
    {
     "name": "stdout",
     "output_type": "stream",
     "text": [
      "2\n",
      "4\n",
      "6\n",
      "8\n",
      "10\n",
      "12\n",
      "14\n",
      "16\n",
      "18\n",
      "20\n"
     ]
    }
   ],
   "source": [
    "#Wap to print table of any number.\n",
    "\n",
    "a = 1\n",
    "# i = 1\n",
    "while a<=10:\n",
    "    i = 2*a\n",
    "    print(i)\n",
    "    a+=1\n",
    "    "
   ]
  },
  {
   "cell_type": "markdown",
   "id": "f7e45cd9",
   "metadata": {},
   "source": [
    "# Data Collection\n",
    "#### List"
   ]
  },
  {
   "cell_type": "code",
   "execution_count": 6,
   "id": "ade10575",
   "metadata": {},
   "outputs": [
    {
     "name": "stdout",
     "output_type": "stream",
     "text": [
      "[5, 6, 7, 8, 12, 34, -90]\n"
     ]
    }
   ],
   "source": [
    "a = [5,6,7,8,12,34,-90]\n",
    "print(a)"
   ]
  },
  {
   "cell_type": "code",
   "execution_count": 7,
   "id": "ae47592a",
   "metadata": {},
   "outputs": [
    {
     "data": {
      "text/plain": [
       "list"
      ]
     },
     "execution_count": 7,
     "metadata": {},
     "output_type": "execute_result"
    }
   ],
   "source": [
    "type(a)"
   ]
  },
  {
   "cell_type": "code",
   "execution_count": 8,
   "id": "d007ccc4",
   "metadata": {},
   "outputs": [
    {
     "name": "stdout",
     "output_type": "stream",
     "text": [
      "['python', 'ML', 'SQL']\n"
     ]
    }
   ],
   "source": [
    "x = ['python','ML','SQL']\n",
    "print(x)"
   ]
  },
  {
   "cell_type": "code",
   "execution_count": 9,
   "id": "29bcacd5",
   "metadata": {},
   "outputs": [
    {
     "data": {
      "text/plain": [
       "list"
      ]
     },
     "execution_count": 9,
     "metadata": {},
     "output_type": "execute_result"
    }
   ],
   "source": [
    "type(x)"
   ]
  },
  {
   "cell_type": "code",
   "execution_count": 10,
   "id": "5a937ae9",
   "metadata": {},
   "outputs": [
    {
     "name": "stdout",
     "output_type": "stream",
     "text": [
      "[1, 2, 3, 4, 89.7, 45.6, True, 0, 45, 67, 'abcd', 'fish']\n"
     ]
    }
   ],
   "source": [
    "x = [1,2,3,4,89.7,45.6,True,0,45,67,'abcd','fish']\n",
    "print(x)"
   ]
  },
  {
   "cell_type": "code",
   "execution_count": 11,
   "id": "eb4b4bfe",
   "metadata": {},
   "outputs": [
    {
     "data": {
      "text/plain": [
       "list"
      ]
     },
     "execution_count": 11,
     "metadata": {},
     "output_type": "execute_result"
    }
   ],
   "source": [
    "type(x)"
   ]
  },
  {
   "cell_type": "markdown",
   "id": "4d30b844",
   "metadata": {},
   "source": [
    "# Indexing & Slicing"
   ]
  },
  {
   "cell_type": "code",
   "execution_count": 12,
   "id": "87631065",
   "metadata": {},
   "outputs": [
    {
     "data": {
      "text/plain": [
       "[1, 2, 3, 4, 89.7, 45.6, True, 0, 45, 67, 'abcd', 'fish']"
      ]
     },
     "execution_count": 12,
     "metadata": {},
     "output_type": "execute_result"
    }
   ],
   "source": [
    "x"
   ]
  },
  {
   "cell_type": "code",
   "execution_count": 13,
   "id": "547649f8",
   "metadata": {},
   "outputs": [
    {
     "data": {
      "text/plain": [
       "89.7"
      ]
     },
     "execution_count": 13,
     "metadata": {},
     "output_type": "execute_result"
    }
   ],
   "source": [
    "x[4]"
   ]
  },
  {
   "cell_type": "code",
   "execution_count": 16,
   "id": "ebccbcf9",
   "metadata": {},
   "outputs": [
    {
     "data": {
      "text/plain": [
       "[45.6, True, 0, 45, 67, 'abcd']"
      ]
     },
     "execution_count": 16,
     "metadata": {},
     "output_type": "execute_result"
    }
   ],
   "source": [
    "x[5:11]"
   ]
  },
  {
   "cell_type": "code",
   "execution_count": 20,
   "id": "ce43a860",
   "metadata": {},
   "outputs": [
    {
     "data": {
      "text/plain": [
       "[45.6, True, 0, 45, 67, 'abcd']"
      ]
     },
     "execution_count": 20,
     "metadata": {},
     "output_type": "execute_result"
    }
   ],
   "source": [
    "x[-7:-1]"
   ]
  },
  {
   "cell_type": "code",
   "execution_count": 21,
   "id": "728c3c32",
   "metadata": {},
   "outputs": [
    {
     "data": {
      "text/plain": [
       "[1, 2, 3, 4, 89.7, 45.6, True, 0, 45, 67, 'abcd', 'fish']"
      ]
     },
     "execution_count": 21,
     "metadata": {},
     "output_type": "execute_result"
    }
   ],
   "source": [
    "x"
   ]
  },
  {
   "cell_type": "code",
   "execution_count": 23,
   "id": "a5ad4ee6",
   "metadata": {},
   "outputs": [
    {
     "data": {
      "text/plain": [
       "['abcd', 67, 45, 0, True, 45.6]"
      ]
     },
     "execution_count": 23,
     "metadata": {},
     "output_type": "execute_result"
    }
   ],
   "source": [
    "x[-2:-8:-1]"
   ]
  },
  {
   "cell_type": "code",
   "execution_count": 24,
   "id": "a79bcd74",
   "metadata": {},
   "outputs": [
    {
     "data": {
      "text/plain": [
       "[1, 2, 3, 4, 89.7, 45.6, True, 0, 45, 67, 'abcd', 'fish']"
      ]
     },
     "execution_count": 24,
     "metadata": {},
     "output_type": "execute_result"
    }
   ],
   "source": [
    "x"
   ]
  },
  {
   "cell_type": "code",
   "execution_count": 25,
   "id": "04489566",
   "metadata": {},
   "outputs": [
    {
     "data": {
      "text/plain": [
       "[1, 2, 3, 4, 89.7, 45.6, True, 0, 45, 67, 'abcd', 'fish']"
      ]
     },
     "execution_count": 25,
     "metadata": {},
     "output_type": "execute_result"
    }
   ],
   "source": [
    "x[0:]"
   ]
  },
  {
   "cell_type": "code",
   "execution_count": 27,
   "id": "7e3dfb86",
   "metadata": {},
   "outputs": [
    {
     "data": {
      "text/plain": [
       "[1, 2, 3, 4, 89.7, 45.6, True, 0, 45, 67, 'abcd', 'fish']"
      ]
     },
     "execution_count": 27,
     "metadata": {},
     "output_type": "execute_result"
    }
   ],
   "source": [
    "x[:12]"
   ]
  },
  {
   "cell_type": "code",
   "execution_count": 28,
   "id": "fb804c13",
   "metadata": {},
   "outputs": [
    {
     "data": {
      "text/plain": [
       "[1, 2, 3, 4, 89.7, 45.6, True, 0, 45, 67, 'abcd', 'fish']"
      ]
     },
     "execution_count": 28,
     "metadata": {},
     "output_type": "execute_result"
    }
   ],
   "source": [
    "x[:]"
   ]
  },
  {
   "cell_type": "code",
   "execution_count": 29,
   "id": "5cb99853",
   "metadata": {},
   "outputs": [
    {
     "data": {
      "text/plain": [
       "[1, 2, 3, 4, 89.7, 45.6, True, 0, 45, 67, 'abcd', 'fish']"
      ]
     },
     "execution_count": 29,
     "metadata": {},
     "output_type": "execute_result"
    }
   ],
   "source": [
    "x[::]"
   ]
  },
  {
   "cell_type": "code",
   "execution_count": 30,
   "id": "63214e8c",
   "metadata": {},
   "outputs": [
    {
     "data": {
      "text/plain": [
       "[1, 2, 3, 4, 89.7, 45.6, True, 0, 45, 67, 'abcd', 'fish']"
      ]
     },
     "execution_count": 30,
     "metadata": {},
     "output_type": "execute_result"
    }
   ],
   "source": [
    "x[::1]"
   ]
  },
  {
   "cell_type": "markdown",
   "id": "5e93f9a0",
   "metadata": {},
   "source": [
    "# Mutable or Immutable"
   ]
  },
  {
   "cell_type": "code",
   "execution_count": 31,
   "id": "b41bf44d",
   "metadata": {},
   "outputs": [
    {
     "data": {
      "text/plain": [
       "[1, 2, 3, 4, 89.7, 45.6, True, 0, 45, 67, 'abcd', 'fish']"
      ]
     },
     "execution_count": 31,
     "metadata": {},
     "output_type": "execute_result"
    }
   ],
   "source": [
    "x"
   ]
  },
  {
   "cell_type": "code",
   "execution_count": 33,
   "id": "846911d9",
   "metadata": {},
   "outputs": [],
   "source": [
    "x[-1] = 'briyani'"
   ]
  },
  {
   "cell_type": "code",
   "execution_count": 34,
   "id": "df7c4c55",
   "metadata": {},
   "outputs": [
    {
     "data": {
      "text/plain": [
       "[1, 2, 3, 4, 89.7, 45.6, True, 0, 45, 67, 'abcd', 'briyani']"
      ]
     },
     "execution_count": 34,
     "metadata": {},
     "output_type": "execute_result"
    }
   ],
   "source": [
    "x"
   ]
  },
  {
   "cell_type": "code",
   "execution_count": 37,
   "id": "0c548acd",
   "metadata": {},
   "outputs": [],
   "source": [
    "x[6:10] = [11,12,13,14]"
   ]
  },
  {
   "cell_type": "code",
   "execution_count": 38,
   "id": "418b4e3d",
   "metadata": {},
   "outputs": [
    {
     "data": {
      "text/plain": [
       "[1, 2, 3, 4, 89.7, 45.6, 11, 12, 13, 14, 'abcd', 'briyani']"
      ]
     },
     "execution_count": 38,
     "metadata": {},
     "output_type": "execute_result"
    }
   ],
   "source": [
    "x"
   ]
  },
  {
   "cell_type": "code",
   "execution_count": 39,
   "id": "986789bb",
   "metadata": {},
   "outputs": [
    {
     "data": {
      "text/plain": [
       "11"
      ]
     },
     "execution_count": 39,
     "metadata": {},
     "output_type": "execute_result"
    }
   ],
   "source": [
    "x[6]"
   ]
  },
  {
   "cell_type": "code",
   "execution_count": 42,
   "id": "0e362d8c",
   "metadata": {},
   "outputs": [],
   "source": [
    "x[6:10] = [0]"
   ]
  },
  {
   "cell_type": "code",
   "execution_count": 43,
   "id": "8da40f08",
   "metadata": {},
   "outputs": [
    {
     "data": {
      "text/plain": [
       "[1, 2, 3, 4, 89.7, 45.6, 0, 'abcd', 'briyani']"
      ]
     },
     "execution_count": 43,
     "metadata": {},
     "output_type": "execute_result"
    }
   ],
   "source": [
    "x"
   ]
  },
  {
   "cell_type": "code",
   "execution_count": 44,
   "id": "ea57009f",
   "metadata": {},
   "outputs": [
    {
     "name": "stdout",
     "output_type": "stream",
     "text": [
      "['mango', 'apple', 'samsung', 'almonds']\n"
     ]
    }
   ],
   "source": [
    "#wap to add numbers present in the list.\n",
    "\n",
    "a = ['mango','apple','samsung','almonds']\n",
    "print(a)"
   ]
  },
  {
   "cell_type": "code",
   "execution_count": 45,
   "id": "df78e9a6",
   "metadata": {},
   "outputs": [
    {
     "name": "stdout",
     "output_type": "stream",
     "text": [
      "mango\n",
      "apple\n",
      "samsung\n",
      "almonds\n"
     ]
    }
   ],
   "source": [
    "for i in a:\n",
    "    print(i)"
   ]
  },
  {
   "cell_type": "code",
   "execution_count": 47,
   "id": "0640f7e3",
   "metadata": {},
   "outputs": [
    {
     "name": "stdout",
     "output_type": "stream",
     "text": [
      "[1, 2, 3, 4, 5, 6]\n"
     ]
    }
   ],
   "source": [
    "a = [1,2,3]\n",
    "b = [4,5,6]\n",
    "c = a+b\n",
    "print(c)"
   ]
  },
  {
   "cell_type": "code",
   "execution_count": 51,
   "id": "8e5673ee",
   "metadata": {},
   "outputs": [
    {
     "name": "stdout",
     "output_type": "stream",
     "text": [
      "10\n"
     ]
    }
   ],
   "source": [
    "s = [1,2,3,4]\n",
    "sum = 0\n",
    "for i in s:\n",
    "    sum = sum+i\n",
    "print(sum)"
   ]
  },
  {
   "cell_type": "code",
   "execution_count": null,
   "id": "1e68f70e",
   "metadata": {},
   "outputs": [],
   "source": [
    "# List\n",
    "# index\n",
    "# slicing\n",
    "# mutable\n",
    "# duplicacy allowed.\n"
   ]
  }
 ],
 "metadata": {
  "kernelspec": {
   "display_name": "Python 3 (ipykernel)",
   "language": "python",
   "name": "python3"
  },
  "language_info": {
   "codemirror_mode": {
    "name": "ipython",
    "version": 3
   },
   "file_extension": ".py",
   "mimetype": "text/x-python",
   "name": "python",
   "nbconvert_exporter": "python",
   "pygments_lexer": "ipython3",
   "version": "3.9.7"
  }
 },
 "nbformat": 4,
 "nbformat_minor": 5
}
