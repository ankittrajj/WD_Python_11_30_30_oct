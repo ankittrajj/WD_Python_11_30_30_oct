{
 "cells": [
  {
   "cell_type": "code",
   "execution_count": 8,
   "id": "8ca8e728",
   "metadata": {},
   "outputs": [],
   "source": [
    "x = {\n",
    "    'name':'',\n",
    "    'age':45\n",
    "}"
   ]
  },
  {
   "cell_type": "code",
   "execution_count": 5,
   "id": "fdd88750",
   "metadata": {},
   "outputs": [
    {
     "name": "stdout",
     "output_type": "stream",
     "text": [
      "{'name': '', 'age': 45}\n"
     ]
    }
   ],
   "source": [
    "print(x)"
   ]
  },
  {
   "cell_type": "code",
   "execution_count": 6,
   "id": "6f5880fa",
   "metadata": {},
   "outputs": [
    {
     "data": {
      "text/plain": [
       "dict"
      ]
     },
     "execution_count": 6,
     "metadata": {},
     "output_type": "execute_result"
    }
   ],
   "source": [
    "type(x)"
   ]
  },
  {
   "cell_type": "code",
   "execution_count": 10,
   "id": "bf7d80fb",
   "metadata": {},
   "outputs": [],
   "source": [
    "#wap to make a dict of a emp having emp_id\n",
    "# and salary.\n",
    "\n",
    "emp = {\n",
    "    'emp_id' : 1234,\n",
    "    'sal': 34000\n",
    "}"
   ]
  },
  {
   "cell_type": "code",
   "execution_count": 11,
   "id": "cf10a7c3",
   "metadata": {},
   "outputs": [
    {
     "name": "stdout",
     "output_type": "stream",
     "text": [
      "{'emp_id': 1234, 'sal': 34000}\n"
     ]
    }
   ],
   "source": [
    "print(emp)"
   ]
  },
  {
   "cell_type": "code",
   "execution_count": 12,
   "id": "aeb9ce4e",
   "metadata": {},
   "outputs": [
    {
     "data": {
      "text/plain": [
       "dict"
      ]
     },
     "execution_count": 12,
     "metadata": {},
     "output_type": "execute_result"
    }
   ],
   "source": [
    "type(emp)"
   ]
  },
  {
   "cell_type": "markdown",
   "id": "2b357d9e",
   "metadata": {},
   "source": [
    "# Slicing & indexing"
   ]
  },
  {
   "cell_type": "code",
   "execution_count": 13,
   "id": "3b24d18a",
   "metadata": {},
   "outputs": [
    {
     "data": {
      "text/plain": [
       "{'emp_id': 1234, 'sal': 34000}"
      ]
     },
     "execution_count": 13,
     "metadata": {},
     "output_type": "execute_result"
    }
   ],
   "source": [
    "emp"
   ]
  },
  {
   "cell_type": "code",
   "execution_count": 14,
   "id": "4a8d278e",
   "metadata": {},
   "outputs": [
    {
     "data": {
      "text/plain": [
       "34000"
      ]
     },
     "execution_count": 14,
     "metadata": {},
     "output_type": "execute_result"
    }
   ],
   "source": [
    "emp['sal']"
   ]
  },
  {
   "cell_type": "code",
   "execution_count": 16,
   "id": "9496e114",
   "metadata": {},
   "outputs": [
    {
     "data": {
      "text/plain": [
       "45"
      ]
     },
     "execution_count": 16,
     "metadata": {},
     "output_type": "execute_result"
    }
   ],
   "source": [
    "x['age']"
   ]
  },
  {
   "cell_type": "code",
   "execution_count": 17,
   "id": "ce4da373",
   "metadata": {},
   "outputs": [
    {
     "data": {
      "text/plain": [
       "{'emp_id': 1234, 'sal': 34000}"
      ]
     },
     "execution_count": 17,
     "metadata": {},
     "output_type": "execute_result"
    }
   ],
   "source": [
    "emp"
   ]
  },
  {
   "cell_type": "code",
   "execution_count": 18,
   "id": "abc790d6",
   "metadata": {},
   "outputs": [
    {
     "data": {
      "text/plain": [
       "34000"
      ]
     },
     "execution_count": 18,
     "metadata": {},
     "output_type": "execute_result"
    }
   ],
   "source": [
    "emp['sal']"
   ]
  },
  {
   "cell_type": "code",
   "execution_count": 19,
   "id": "e1907f92",
   "metadata": {},
   "outputs": [
    {
     "data": {
      "text/plain": [
       "45"
      ]
     },
     "execution_count": 19,
     "metadata": {},
     "output_type": "execute_result"
    }
   ],
   "source": [
    "x['age']"
   ]
  },
  {
   "cell_type": "code",
   "execution_count": 32,
   "id": "ef1431fc",
   "metadata": {},
   "outputs": [],
   "source": [
    "s = {\n",
    "    'name':['A','B','C'],\n",
    "    'age':(34,45,23),\n",
    "    'marks':(56,90,1)\n",
    "}"
   ]
  },
  {
   "cell_type": "code",
   "execution_count": 21,
   "id": "d017b3f7",
   "metadata": {},
   "outputs": [
    {
     "data": {
      "text/plain": [
       "{'name': ['A', 'B', 'C'], 'age': (34, 45, 23), 'marks': (56, 90, 1)}"
      ]
     },
     "execution_count": 21,
     "metadata": {},
     "output_type": "execute_result"
    }
   ],
   "source": [
    "s"
   ]
  },
  {
   "cell_type": "code",
   "execution_count": 22,
   "id": "c6adf4b4",
   "metadata": {},
   "outputs": [
    {
     "data": {
      "text/plain": [
       "dict"
      ]
     },
     "execution_count": 22,
     "metadata": {},
     "output_type": "execute_result"
    }
   ],
   "source": [
    "type(s)"
   ]
  },
  {
   "cell_type": "code",
   "execution_count": 24,
   "id": "d5532089",
   "metadata": {},
   "outputs": [
    {
     "data": {
      "text/plain": [
       "56"
      ]
     },
     "execution_count": 24,
     "metadata": {},
     "output_type": "execute_result"
    }
   ],
   "source": [
    "s['marks'][0]"
   ]
  },
  {
   "cell_type": "code",
   "execution_count": 25,
   "id": "1c19a786",
   "metadata": {},
   "outputs": [],
   "source": [
    "# Mutable & Immutable"
   ]
  },
  {
   "cell_type": "code",
   "execution_count": 26,
   "id": "7f068a9c",
   "metadata": {},
   "outputs": [
    {
     "data": {
      "text/plain": [
       "{'name': '', 'age': 45}"
      ]
     },
     "execution_count": 26,
     "metadata": {},
     "output_type": "execute_result"
    }
   ],
   "source": [
    "x"
   ]
  },
  {
   "cell_type": "code",
   "execution_count": 27,
   "id": "3607abc8",
   "metadata": {},
   "outputs": [],
   "source": [
    "x['age']=0"
   ]
  },
  {
   "cell_type": "code",
   "execution_count": 28,
   "id": "4a445cac",
   "metadata": {},
   "outputs": [
    {
     "data": {
      "text/plain": [
       "{'name': '', 'age': 0}"
      ]
     },
     "execution_count": 28,
     "metadata": {},
     "output_type": "execute_result"
    }
   ],
   "source": [
    "x"
   ]
  },
  {
   "cell_type": "code",
   "execution_count": 29,
   "id": "f5b542e2",
   "metadata": {},
   "outputs": [
    {
     "data": {
      "text/plain": [
       "{'name': ['A', 'B', 'C'], 'age': (34, 45, 23), 'marks': (56, 90, 1)}"
      ]
     },
     "execution_count": 29,
     "metadata": {},
     "output_type": "execute_result"
    }
   ],
   "source": [
    "s"
   ]
  },
  {
   "cell_type": "code",
   "execution_count": 30,
   "id": "c3664d7f",
   "metadata": {},
   "outputs": [],
   "source": [
    "s['name'] = 0"
   ]
  },
  {
   "cell_type": "code",
   "execution_count": 31,
   "id": "4e609519",
   "metadata": {},
   "outputs": [
    {
     "data": {
      "text/plain": [
       "{'name': 0, 'age': (34, 45, 23), 'marks': (56, 90, 1)}"
      ]
     },
     "execution_count": 31,
     "metadata": {},
     "output_type": "execute_result"
    }
   ],
   "source": [
    "s"
   ]
  },
  {
   "cell_type": "code",
   "execution_count": 33,
   "id": "32cf8a6e",
   "metadata": {},
   "outputs": [],
   "source": [
    "s['name'] = ['x','y','z']"
   ]
  },
  {
   "cell_type": "code",
   "execution_count": 34,
   "id": "5c481882",
   "metadata": {},
   "outputs": [
    {
     "data": {
      "text/plain": [
       "{'name': ['x', 'y', 'z'], 'age': (34, 45, 23), 'marks': (56, 90, 1)}"
      ]
     },
     "execution_count": 34,
     "metadata": {},
     "output_type": "execute_result"
    }
   ],
   "source": [
    "s"
   ]
  },
  {
   "cell_type": "code",
   "execution_count": 49,
   "id": "9d0607d9",
   "metadata": {},
   "outputs": [],
   "source": [
    "x = {\n",
    "    1:0,\n",
    "    '1':0,\n",
    "    1:'0',\n",
    "    '1':'0',\n",
    "    'hello':123,\n",
    "    '123':45,\n",
    "    123:'y'\n",
    "}"
   ]
  },
  {
   "cell_type": "code",
   "execution_count": 50,
   "id": "a4336b66",
   "metadata": {},
   "outputs": [
    {
     "data": {
      "text/plain": [
       "{1: '0', '1': '0', 'hello': 123, '123': 45, 123: 'y'}"
      ]
     },
     "execution_count": 50,
     "metadata": {},
     "output_type": "execute_result"
    }
   ],
   "source": [
    "x"
   ]
  },
  {
   "cell_type": "code",
   "execution_count": 53,
   "id": "fb2a5240",
   "metadata": {},
   "outputs": [
    {
     "name": "stdout",
     "output_type": "stream",
     "text": [
      "{1: 0}\n"
     ]
    }
   ],
   "source": [
    "#wap to make a empty dict\n",
    "#wap to make single element dict\n",
    "#wap to make a dict inside a dict.\n",
    "\n",
    "x = {\n",
    "    1:0\n",
    "    \n",
    "}\n",
    "print(x)"
   ]
  },
  {
   "cell_type": "code",
   "execution_count": 54,
   "id": "0e4f179d",
   "metadata": {},
   "outputs": [
    {
     "data": {
      "text/plain": [
       "dict"
      ]
     },
     "execution_count": 54,
     "metadata": {},
     "output_type": "execute_result"
    }
   ],
   "source": [
    "type(x)"
   ]
  },
  {
   "cell_type": "code",
   "execution_count": 57,
   "id": "35862b1a",
   "metadata": {},
   "outputs": [],
   "source": [
    "x = {\n",
    "    'name':123,\n",
    "    \n",
    "    'd':{\n",
    "        'address':1253,\n",
    "        'marks':12\n",
    "    }\n",
    "}"
   ]
  },
  {
   "cell_type": "code",
   "execution_count": 58,
   "id": "f9400cb2",
   "metadata": {},
   "outputs": [
    {
     "name": "stdout",
     "output_type": "stream",
     "text": [
      "{'name': 123, 'd': {'address': 1253, 'marks': 12}}\n"
     ]
    }
   ],
   "source": [
    "print(x)"
   ]
  },
  {
   "cell_type": "code",
   "execution_count": 59,
   "id": "3420a784",
   "metadata": {},
   "outputs": [],
   "source": [
    "d={\"name\":{\"sajid\":\"100%\",\"Azeem\":\"90%\"}}\n"
   ]
  },
  {
   "cell_type": "code",
   "execution_count": 60,
   "id": "218c2443",
   "metadata": {},
   "outputs": [
    {
     "data": {
      "text/plain": [
       "{'name': 123, 'd': {'address': 1253, 'marks': 12}}"
      ]
     },
     "execution_count": 60,
     "metadata": {},
     "output_type": "execute_result"
    }
   ],
   "source": [
    "x"
   ]
  },
  {
   "cell_type": "code",
   "execution_count": 62,
   "id": "4c95d47b",
   "metadata": {},
   "outputs": [
    {
     "data": {
      "text/plain": [
       "12"
      ]
     },
     "execution_count": 62,
     "metadata": {},
     "output_type": "execute_result"
    }
   ],
   "source": [
    "x['d']['marks']"
   ]
  },
  {
   "cell_type": "code",
   "execution_count": null,
   "id": "dda04d49",
   "metadata": {},
   "outputs": [],
   "source": [
    "# keys\n",
    "# values\n",
    "# items\n",
    "# update"
   ]
  }
 ],
 "metadata": {
  "kernelspec": {
   "display_name": "Python 3 (ipykernel)",
   "language": "python",
   "name": "python3"
  },
  "language_info": {
   "codemirror_mode": {
    "name": "ipython",
    "version": 3
   },
   "file_extension": ".py",
   "mimetype": "text/x-python",
   "name": "python",
   "nbconvert_exporter": "python",
   "pygments_lexer": "ipython3",
   "version": "3.9.7"
  }
 },
 "nbformat": 4,
 "nbformat_minor": 5
}
